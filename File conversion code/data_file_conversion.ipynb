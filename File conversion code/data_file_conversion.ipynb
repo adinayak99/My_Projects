{
 "cells": [
  {
   "cell_type": "markdown",
   "id": "08f0b062-e587-4e62-94e4-4231ac0b9c99",
   "metadata": {},
   "source": [
    "<h2>JSON to CSV</h2>"
   ]
  },
  {
   "cell_type": "code",
   "execution_count": 1,
   "id": "dc3b67a9-b70d-4f60-92b0-891d013459bd",
   "metadata": {
    "tags": []
   },
   "outputs": [],
   "source": [
    "import pandas as pd\n",
    "import json"
   ]
  },
  {
   "cell_type": "code",
   "execution_count": null,
   "id": "696acb11-e6c0-4f4d-ba13-8ff400f01057",
   "metadata": {},
   "outputs": [],
   "source": [
    "df = pd.read_json('your_file.json')"
   ]
  },
  {
   "cell_type": "code",
   "execution_count": null,
   "id": "b58f3f2c-5fff-4081-80d8-29ad06358d5d",
   "metadata": {},
   "outputs": [],
   "source": [
    "with open('your_file.json', 'r') as f:\n",
    "    data = json.load(f)\n",
    "df = pd.json_normalize(data) # Use this if your JSON is nested and needs flattening"
   ]
  },
  {
   "cell_type": "code",
   "execution_count": null,
   "id": "cacae659-d87a-4c14-afa2-d3406b852f86",
   "metadata": {},
   "outputs": [],
   "source": []
  }
 ],
 "metadata": {
  "kernelspec": {
   "display_name": "Python 3 (ipykernel)",
   "language": "python",
   "name": "python3"
  },
  "language_info": {
   "codemirror_mode": {
    "name": "ipython",
    "version": 3
   },
   "file_extension": ".py",
   "mimetype": "text/x-python",
   "name": "python",
   "nbconvert_exporter": "python",
   "pygments_lexer": "ipython3",
   "version": "3.9.12"
  }
 },
 "nbformat": 4,
 "nbformat_minor": 5
}
