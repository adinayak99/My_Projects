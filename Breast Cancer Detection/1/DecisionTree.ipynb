{
 "metadata": {
  "language_info": {
   "codemirror_mode": {
    "name": "ipython",
    "version": 3
   },
   "file_extension": ".py",
   "mimetype": "text/x-python",
   "name": "python",
   "nbconvert_exporter": "python",
   "pygments_lexer": "ipython3",
   "version": "3.8.7-final"
  },
  "orig_nbformat": 2,
  "kernelspec": {
   "name": "python3",
   "display_name": "Python 3.8.7 64-bit",
   "metadata": {
    "interpreter": {
     "hash": "000f48cd566f6ff0d8b51f525d1db3d5facee0e489c2177ec865f02049ac21e4"
    }
   }
  }
 },
 "nbformat": 4,
 "nbformat_minor": 2,
 "cells": [
  {
   "cell_type": "code",
   "execution_count": 1,
   "metadata": {},
   "outputs": [],
   "source": [
    "import numpy as np\n",
    "import pandas as pd"
   ]
  },
  {
   "cell_type": "code",
   "execution_count": 2,
   "metadata": {},
   "outputs": [
    {
     "output_type": "stream",
     "name": "stdout",
     "text": [
      "    id    age  income  gender marital_status\n0    1    <21    High    Male         Single\n1    2    <21    High    Male        Married\n2    3  21-35    High    Male         Single\n3    4    >35  Medium    Male         Single\n4    5    >35     Low  Female         Single\n5    6    >35     Low  Female        Married\n6    7  21-35     Low  Female        Married\n7    8    <21  Medium    Male         Single\n8    9    <21     Low  Female        Married\n9   10    >35  Medium  Female         Single\n10  11    <21  Medium  Female        Married\n11  12  21-35  Medium    Male        Married\n12  13  21-35    High  Female         Single\n13  14    >35  Medium    Male        Married\n['No' 'No' 'Yes' 'Yes' 'Yes' 'No' 'Yes' 'No' 'Yes' 'Yes' 'Yes' 'Yes' 'Yes'\n 'No']\n"
     ]
    }
   ],
   "source": [
    "dataset = pd.read_csv('data.csv')\n",
    "X = dataset.iloc[:,:-1]\n",
    "Y = dataset.iloc[:,5].values\n",
    "print(X)\n",
    "print(Y)"
   ]
  },
  {
   "cell_type": "code",
   "execution_count": 3,
   "metadata": {},
   "outputs": [],
   "source": [
    "from sklearn.preprocessing import LabelEncoder\n",
    "LabelEncoder_X = LabelEncoder()"
   ]
  },
  {
   "cell_type": "code",
   "execution_count": 4,
   "metadata": {},
   "outputs": [
    {
     "output_type": "stream",
     "name": "stdout",
     "text": [
      "    id  age  income  gender  marital_status\n0    0    1       0       1               1\n1    1    1       0       1               0\n2    2    0       0       1               1\n3    3    2       2       1               1\n4    4    2       1       0               1\n5    5    2       1       0               0\n6    6    0       1       0               0\n7    7    1       2       1               1\n8    8    1       1       0               0\n9    9    2       2       0               1\n10  10    1       2       0               0\n11  11    0       2       1               0\n12  12    0       0       0               1\n13  13    2       2       1               0\n"
     ]
    }
   ],
   "source": [
    "X = X.apply(LabelEncoder().fit_transform)\n",
    "print(X)"
   ]
  },
  {
   "cell_type": "code",
   "execution_count": 6,
   "metadata": {},
   "outputs": [
    {
     "output_type": "execute_result",
     "data": {
      "text/plain": [
       "DecisionTreeClassifier()"
      ]
     },
     "metadata": {},
     "execution_count": 6
    }
   ],
   "source": [
    "from sklearn.tree import DecisionTreeClassifier\n",
    "regressor = DecisionTreeClassifier()\n",
    "regressor.fit(X.iloc[:,1:5],Y)"
   ]
  },
  {
   "cell_type": "code",
   "execution_count": 7,
   "metadata": {},
   "outputs": [],
   "source": [
    "X_in = np.array([1,1,0,0])"
   ]
  },
  {
   "cell_type": "code",
   "execution_count": 8,
   "metadata": {},
   "outputs": [
    {
     "output_type": "stream",
     "name": "stdout",
     "text": [
      "Prediction:  ['Yes']\n"
     ]
    }
   ],
   "source": [
    "y_pred = regressor.predict([X_in])\n",
    "print(\"Prediction: \",y_pred)"
   ]
  },
  {
   "cell_type": "code",
   "execution_count": null,
   "metadata": {},
   "outputs": [],
   "source": []
  }
 ]
}